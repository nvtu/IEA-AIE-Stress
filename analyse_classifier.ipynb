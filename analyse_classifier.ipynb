{
 "cells": [
  {
   "cell_type": "code",
   "execution_count": 1,
   "metadata": {},
   "outputs": [],
   "source": [
    "import sys, os\n",
    "\n",
    "data_lib = os.path.abspath('data')\n",
    "if data_lib not in sys.path:\n",
    "    sys.path.append(data_lib)\n",
    "import os\n",
    "import os.path as osp\n",
    "import numpy as np\n",
    "import configparser\n",
    "from models.classifiers import BinaryClassifier\n",
    "from models.deep_neural_network import *\n",
    "import pandas as pd\n",
    "from sklearn.model_selection import LeaveOneGroupOut\n",
    "from tqdm import tqdm\n",
    "from data.dataset_loader import *\n",
    "from data.result_utils import *\n",
    "from sklearn.ensemble import RandomForestClassifier, AdaBoostClassifier\n",
    "from sklearn.metrics import balanced_accuracy_score, accuracy_score\n",
    "from sklearn.pipeline import Pipeline\n",
    "from sklearn.preprocessing import StandardScaler\n",
    "from sklearn.neighbors import KNeighborsClassifier\n",
    "import torch\n",
    "from mlxtend.feature_selection import SequentialFeatureSelector as SFS\n",
    "from sklearn.svm import SVC"
   ]
  },
  {
   "cell_type": "code",
   "execution_count": 2,
   "metadata": {},
   "outputs": [],
   "source": [
    "# %%\n",
    "# -- Uncomment the dataset that you wanna load -- #\n",
    "# dataset_name = 'AffectiveROAD'\n",
    "dataset_name = 'WESAD'\n",
    "# device = 'right'\n",
    "device = 'wrist'\n",
    "# physiological_signal_type = 'BVP_EDA'\n",
    "physiological_signal_type = 'BVP_EDA_TEMP'\n",
    "# physiological_signal_type = 'BVP'\n",
    "# NORMALIZER = '_nonorm'\n",
    "NORMALIZER = ''\n",
    "# physiological_signal_type = 'EDA'\n",
    "# dataset_name = 'DCU_NVT_EXP1'\n",
    "\n",
    "# %%\n",
    "WINDOW_SHIFT = 0.25\n",
    "WINDOW_SIZE = 60\n",
    "dp_manager = get_data_path_manager()"
   ]
  },
  {
   "cell_type": "code",
   "execution_count": 3,
   "metadata": {},
   "outputs": [],
   "source": [
    "# %%\n",
    "ds_loader = DatasetLoader(dataset_name, device, physiological_signal_type, WINDOW_SHIFT = WINDOW_SHIFT, WINDOW_SIZE = WINDOW_SIZE)\n",
    "\n",
    "# %% [markdown]\n",
    "# # Define stress detection strategies\n",
    "\n",
    "# %%\n",
    "# -- Uncomment the detection strategy that you wanna use to detect -- #\n",
    "strategies = ['svm'] #, 'mlp']\n",
    "# detection_strategy = 'logistic_regression'\n",
    "# detection_strategy = 'random_forest'\n",
    "# detection_strategy = 'svm'\n",
    "# detection_strategy = 'mlp'\n",
    "# detection_strategy = 'knn'\n",
    "\n",
    "\n",
    "# %%\n",
    "# SCORING = 'accuracy'\n",
    "SCORING = 'balanced_accuracy'"
   ]
  },
  {
   "cell_type": "code",
   "execution_count": 4,
   "metadata": {},
   "outputs": [],
   "source": [
    "def get_classifier(method: str):\n",
    "    clf = None\n",
    "    if method == 'random_forest':\n",
    "        clf = RandomForestClassifier(n_estimators = 250, random_state = 0, n_jobs = -1, max_depth = 8, min_samples_leaf = 4, min_samples_split = 2, oob_score = True, bootstrap = True, class_weight = 'balanced')\n",
    "    elif method == 'knn':\n",
    "        clf = KNeighborsClassifier(n_neighbors = 5, weights = 'distance', n_jobs=-1)\n",
    "    elif method == 'svm':\n",
    "        clf = SVC(C = 10, kernel = 'rbf', gamma = 'scale', class_weight = 'balanced', random_state = 0)\n",
    "    return clf\n",
    "        "
   ]
  },
  {
   "cell_type": "code",
   "execution_count": 5,
   "metadata": {},
   "outputs": [
    {
     "name": "stderr",
     "output_type": "stream",
     "text": [
      "1it [01:32, 92.06s/it]"
     ]
    },
    {
     "name": "stdout",
     "output_type": "stream",
     "text": [
      "Test subject S10 --- Accuracy: 0.7865999046256557 --- Balanced Accuracy: 0.8403268996513631\n"
     ]
    },
    {
     "name": "stderr",
     "output_type": "stream",
     "text": [
      "2it [03:09, 93.71s/it]"
     ]
    },
    {
     "name": "stdout",
     "output_type": "stream",
     "text": [
      "Test subject S11 --- Accuracy: 0.9677734375 --- Balanced Accuracy: 0.9660533568266017\n"
     ]
    },
    {
     "name": "stderr",
     "output_type": "stream",
     "text": [
      "3it [04:49, 95.42s/it]"
     ]
    },
    {
     "name": "stdout",
     "output_type": "stream",
     "text": [
      "Test subject S13 --- Accuracy: 0.9937683284457478 --- Balanced Accuracy: 0.9906480490672447\n"
     ]
    }
   ],
   "source": [
    "for train_index, test_index in tqdm(LeaveOneGroupOut().split(ds_loader.dataset, ds_loader.ground_truth, ds_loader.groups)):\n",
    "    X_train, X_test = ds_loader.dataset[train_index], ds_loader.dataset[test_index]\n",
    "    y_train, y_test = ds_loader.ground_truth[train_index], ds_loader.ground_truth[test_index]\n",
    "    groups_test = ds_loader.groups[test_index][0]\n",
    "    for strategy in strategies:\n",
    "        pipeline = []\n",
    "        if strategy in ['knn', 'svm']:\n",
    "            pipeline.append(('scaler', StandardScaler()))\n",
    "        clf = get_classifier(strategy)\n",
    "        pipeline.append(('classifier', clf))\n",
    "        pipeline = Pipeline(pipeline)\n",
    "        pipeline.fit(X_train, y_train)\n",
    "        y_pred = pipeline.predict(X_test)\n",
    "        y_true = y_test\n",
    "        acc = accuracy_score(y_true, y_pred)\n",
    "        balanced_acc = balanced_accuracy_score(y_true, y_pred)\n",
    "        print(f'Test subject {groups_test} --- Accuracy: {acc} --- Balanced Accuracy: {balanced_acc}')"
   ]
  },
  {
   "cell_type": "code",
   "execution_count": null,
   "metadata": {},
   "outputs": [],
   "source": [
    "# for detection_strategy in strategies:\n",
    "#     detector_type = 'General'\n",
    "#     print(f'--- RUNNING {detector_type} {detection_strategy} ---')\n",
    "#     clf = BinaryClassifier(ds_loader.dataset, ds_loader.ground_truth, detection_strategy, basic_logo_validation = True, groups = ds_loader.groups, scoring = SCORING)\n",
    "#     results = clf.exec_classifier() # Build classifier and return prediction results\n",
    "#     print('------------------------------------------------------')\n",
    "\n",
    "    # # %%\n",
    "    # # Save results\n",
    "    # result_helper = ResultUtils(dataset_name, device, physiological_signal_type, NORMALIZER = NORMALIZER, WINDOW_SHIFT = WINDOW_SHIFT, WINDOW_SIZE = WINDOW_SIZE)\n",
    "    # result_helper.dump_result_to_csv(results, detection_strategy, detector_type)"
   ]
  },
  {
   "cell_type": "code",
   "execution_count": null,
   "metadata": {},
   "outputs": [],
   "source": []
  }
 ],
 "metadata": {
  "interpreter": {
   "hash": "ecad4187db5c553b59aee5b1fb9016fbe2f84af246ba1814de0c1cdbad8b74c7"
  },
  "kernelspec": {
   "display_name": "Python 3.8.3 64-bit ('base': conda)",
   "language": "python",
   "name": "python3"
  },
  "language_info": {
   "codemirror_mode": {
    "name": "ipython",
    "version": 3
   },
   "file_extension": ".py",
   "mimetype": "text/x-python",
   "name": "python",
   "nbconvert_exporter": "python",
   "pygments_lexer": "ipython3",
   "version": "3.8.3"
  },
  "orig_nbformat": 4
 },
 "nbformat": 4,
 "nbformat_minor": 2
}
