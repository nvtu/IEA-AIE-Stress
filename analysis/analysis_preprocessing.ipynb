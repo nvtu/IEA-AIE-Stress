{
 "cells": [
  {
   "cell_type": "code",
   "execution_count": 1,
   "metadata": {},
   "outputs": [],
   "source": [
    "# Add additional library\n",
    "import sys, os\n",
    "data_lib = os.path.abspath('../data')\n",
    "if data_lib not in sys.path:\n",
    "    sys.path.append(data_lib)\n",
    "\n",
    "from data_utils import get_data_path_manager, get_dataset_path\n",
    "import pickle\n",
    "import numpy as np\n",
    "from pathlib import Path\n",
    "from tqdm import tqdm\n",
    "import json"
   ]
  },
  {
   "cell_type": "code",
   "execution_count": 2,
   "metadata": {},
   "outputs": [],
   "source": [
    "BVP_SAMPLING_RATE = 64\n",
    "EDA_SAMPLING_RATE = 4\n",
    "\n",
    "dp_manager = get_data_path_manager()"
   ]
  },
  {
   "cell_type": "code",
   "execution_count": 3,
   "metadata": {},
   "outputs": [],
   "source": [
    "def resampling_indices(indices, target_sr, original_sr):\n",
    "    rate = target_sr / original_sr\n",
    "    resampled_indices = [int(round(ind) * rate) for ind in indices]\n",
    "    return resampled_indices"
   ]
  },
  {
   "cell_type": "code",
   "execution_count": 4,
   "metadata": {},
   "outputs": [],
   "source": [
    "def assert_resampling_indices(fst_inds, fnd_inds, fsr, sst_inds, snd_inds, ssr):\n",
    "    assert(len(fst_inds) == len(sst_inds))\n",
    "    assert(len(fnd_inds) == len(fnd_inds))\n",
    "\n",
    "    num_indices = len(fst_inds)\n",
    "    for i in range(num_indices):\n",
    "        f_len = round((fnd_inds[i] - fst_inds[i]) / fsr)\n",
    "        s_len = round((snd_inds[i] - sst_inds[i]) / ssr)\n",
    "        assert(f_len == s_len)"
   ]
  },
  {
   "cell_type": "markdown",
   "metadata": {},
   "source": [
    "---"
   ]
  },
  {
   "cell_type": "markdown",
   "metadata": {},
   "source": [
    "# WESAD CURSOR-INDICES PREPROCESSING"
   ]
  },
  {
   "cell_type": "code",
   "execution_count": 5,
   "metadata": {},
   "outputs": [
    {
     "name": "stderr",
     "output_type": "stream",
     "text": [
      "100%|██████████| 15/15 [00:32<00:00,  2.14s/it]\n"
     ]
    }
   ],
   "source": [
    "WESAD_LABELS = ['', 'baseline', 'stress', 'amusement', 'meditation']\n",
    "ORIGINAL_SAMPLING_RATE = 700\n",
    "metadata_file_path = str(Path(dp_manager.dataset_path) / 'wesad_wrist_metadata.json')\n",
    "\n",
    "wesad_metadata = {}\n",
    "user_ids = sorted(os.listdir(dp_manager.WESAD_dataset_path))\n",
    "for user_id in tqdm(user_ids):\n",
    "    data_path = str(Path(dp_manager.WESAD_dataset_path) / user_id / f'{user_id}.pkl')\n",
    "    data = pickle.load(open(data_path, 'rb'), encoding = 'bytes')\n",
    "\n",
    "    labels = data[b'label'].tolist()\n",
    "    labels.insert(-1, 0)\n",
    "    num_labels = len(labels)\n",
    "    starting_indices = []\n",
    "    ending_indices = []\n",
    "    gt = []\n",
    "    for i in range(1, num_labels):\n",
    "        if labels[i] != labels[i-1]:\n",
    "            if 0 < labels[i] < 5: \n",
    "                starting_indices.append(i)\n",
    "                gt.append(WESAD_LABELS[labels[i]])\n",
    "            if 0 < labels[i-1] < 5: ending_indices.append(i-1)\n",
    "    bvp_starting_indices = resampling_indices(starting_indices, BVP_SAMPLING_RATE, ORIGINAL_SAMPLING_RATE)\n",
    "    bvp_ending_indices = resampling_indices(ending_indices, BVP_SAMPLING_RATE, ORIGINAL_SAMPLING_RATE)\n",
    "    assert_resampling_indices(starting_indices, ending_indices, ORIGINAL_SAMPLING_RATE, bvp_starting_indices, bvp_ending_indices, BVP_SAMPLING_RATE) \n",
    "\n",
    "    eda_starting_indices = resampling_indices(starting_indices, EDA_SAMPLING_RATE, ORIGINAL_SAMPLING_RATE)\n",
    "    eda_ending_indices = resampling_indices(ending_indices, EDA_SAMPLING_RATE, ORIGINAL_SAMPLING_RATE)\n",
    "    assert_resampling_indices(starting_indices, ending_indices, ORIGINAL_SAMPLING_RATE, eda_starting_indices, eda_ending_indices, EDA_SAMPLING_RATE)\n",
    "\n",
    "    wesad_metadata[user_id] = {\n",
    "        'labels': gt,\n",
    "        'bvp': {\n",
    "            'starting_indices': bvp_starting_indices,\n",
    "            'ending_indices': bvp_ending_indices\n",
    "        },\n",
    "        'eda': {\n",
    "            'starting_indices': eda_starting_indices,\n",
    "            'ending_indices': eda_ending_indices\n",
    "        }\n",
    "    }\n",
    "\n",
    "with open(metadata_file_path, 'w') as f:\n",
    "    json.dump(wesad_metadata, f, indent = 4)"
   ]
  }
 ],
 "metadata": {
  "interpreter": {
   "hash": "ecad4187db5c553b59aee5b1fb9016fbe2f84af246ba1814de0c1cdbad8b74c7"
  },
  "kernelspec": {
   "display_name": "Python 3.8.3 64-bit ('base': conda)",
   "language": "python",
   "name": "python3"
  },
  "language_info": {
   "codemirror_mode": {
    "name": "ipython",
    "version": 3
   },
   "file_extension": ".py",
   "mimetype": "text/x-python",
   "name": "python",
   "nbconvert_exporter": "python",
   "pygments_lexer": "ipython3",
   "version": "3.8.3"
  },
  "orig_nbformat": 4
 },
 "nbformat": 4,
 "nbformat_minor": 2
}
