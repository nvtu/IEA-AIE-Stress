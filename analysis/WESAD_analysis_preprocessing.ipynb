{
 "cells": [
  {
   "cell_type": "code",
   "execution_count": 1,
   "metadata": {},
   "outputs": [],
   "source": [
    "# Add additional library\n",
    "import sys, os, os.path as osp\n",
    "data_lib = os.path.abspath('../data')\n",
    "if data_lib not in sys.path:\n",
    "    sys.path.append(data_lib)\n",
    "\n",
    "from data_utils import *\n",
    "import pickle\n",
    "import numpy as np\n",
    "from pathlib import Path\n",
    "from tqdm import tqdm\n",
    "import json\n",
    "import pandas as pd\n",
    "from typing import List, Dict\n",
    "from collections import defaultdict"
   ]
  },
  {
   "cell_type": "code",
   "execution_count": 2,
   "metadata": {},
   "outputs": [],
   "source": [
    "BVP_SAMPLING_RATE = 700\n",
    "EDA_SAMPLING_RATE = 700\n",
    "TEMP_SAMPLING_RATE = 700\n",
    "\n",
    "dp_manager = get_data_path_manager()"
   ]
  },
  {
   "cell_type": "code",
   "execution_count": 3,
   "metadata": {},
   "outputs": [],
   "source": [
    "def resampling_indices(indices, target_sr, original_sr):\n",
    "    rate = target_sr / original_sr\n",
    "    resampled_indices = [int(round(ind) * rate) for ind in indices]\n",
    "    return resampled_indices"
   ]
  },
  {
   "cell_type": "code",
   "execution_count": 4,
   "metadata": {},
   "outputs": [],
   "source": [
    "def assert_resampling_indices(fst_inds, fnd_inds, fsr, sst_inds, snd_inds, ssr):\n",
    "    assert(len(fst_inds) == len(sst_inds))\n",
    "    assert(len(fnd_inds) == len(fnd_inds))\n",
    "\n",
    "    num_indices = len(fst_inds)\n",
    "    for i in range(num_indices):\n",
    "        f_len = round((fnd_inds[i] - fst_inds[i]) / fsr)\n",
    "        s_len = round((snd_inds[i] - sst_inds[i]) / ssr)\n",
    "        assert(f_len == s_len)"
   ]
  },
  {
   "cell_type": "code",
   "execution_count": 5,
   "metadata": {},
   "outputs": [],
   "source": [
    "# Get dataset path\n",
    "wesad_dataset_path = dp_manager.WESAD_dataset_path\n",
    "\n",
    "# List of user ids\n",
    "user_ids = sorted([user_id for user_id in os.listdir(wesad_dataset_path) if osp.splitext(user_id)[-1] != '.csv'])\n",
    "\n",
    "# Objective ground-truth file path\n",
    "ground_truth_path = osp.join(wesad_dataset_path, 'WESAD-Ground-Truth.csv')"
   ]
  },
  {
   "cell_type": "code",
   "execution_count": 6,
   "metadata": {},
   "outputs": [
    {
     "data": {
      "text/html": [
       "<div>\n",
       "<style scoped>\n",
       "    .dataframe tbody tr th:only-of-type {\n",
       "        vertical-align: middle;\n",
       "    }\n",
       "\n",
       "    .dataframe tbody tr th {\n",
       "        vertical-align: top;\n",
       "    }\n",
       "\n",
       "    .dataframe thead th {\n",
       "        text-align: right;\n",
       "    }\n",
       "</style>\n",
       "<table border=\"1\" class=\"dataframe\">\n",
       "  <thead>\n",
       "    <tr style=\"text-align: right;\">\n",
       "      <th></th>\n",
       "      <th>INSTANCE</th>\n",
       "      <th>LABEL</th>\n",
       "    </tr>\n",
       "  </thead>\n",
       "  <tbody>\n",
       "    <tr>\n",
       "      <th>0</th>\n",
       "      <td>S10_baseline_1.csv</td>\n",
       "      <td>0</td>\n",
       "    </tr>\n",
       "    <tr>\n",
       "      <th>1</th>\n",
       "      <td>S10_amusement_2.csv</td>\n",
       "      <td>0</td>\n",
       "    </tr>\n",
       "    <tr>\n",
       "      <th>2</th>\n",
       "      <td>S10_meditation_3.csv</td>\n",
       "      <td>0</td>\n",
       "    </tr>\n",
       "    <tr>\n",
       "      <th>3</th>\n",
       "      <td>S10_stress_4.csv</td>\n",
       "      <td>1</td>\n",
       "    </tr>\n",
       "    <tr>\n",
       "      <th>4</th>\n",
       "      <td>S10_meditation_5.csv</td>\n",
       "      <td>0</td>\n",
       "    </tr>\n",
       "  </tbody>\n",
       "</table>\n",
       "</div>"
      ],
      "text/plain": [
       "               INSTANCE  LABEL\n",
       "0    S10_baseline_1.csv      0\n",
       "1   S10_amusement_2.csv      0\n",
       "2  S10_meditation_3.csv      0\n",
       "3      S10_stress_4.csv      1\n",
       "4  S10_meditation_5.csv      0"
      ]
     },
     "execution_count": 6,
     "metadata": {},
     "output_type": "execute_result"
    }
   ],
   "source": [
    "ground_truth = pd.read_csv(ground_truth_path)\n",
    "ground_truth.head()"
   ]
  },
  {
   "cell_type": "markdown",
   "metadata": {},
   "source": [
    "---"
   ]
  },
  {
   "cell_type": "markdown",
   "metadata": {},
   "source": [
    "# WESAD CURSOR-INDICES PREPROCESSING"
   ]
  },
  {
   "cell_type": "code",
   "execution_count": 7,
   "metadata": {},
   "outputs": [
    {
     "name": "stderr",
     "output_type": "stream",
     "text": [
      "100%|██████████| 15/15 [00:41<00:00,  2.78s/it]\n"
     ]
    }
   ],
   "source": [
    "WESAD_LABELS = ['', 'baseline', 'stress', 'amusement', 'meditation']\n",
    "ORIGINAL_SAMPLING_RATE = 700\n",
    "metadata_file_path = str(Path(dp_manager.dataset_path) / 'wesad_chest_metadata.json')\n",
    "\n",
    "wesad_metadata = {}\n",
    "for user_id in tqdm(user_ids):\n",
    "    data_path = str(Path(dp_manager.WESAD_dataset_path) / user_id / f'{user_id}.pkl')\n",
    "    data = pickle.load(open(data_path, 'rb'), encoding = 'bytes')\n",
    "\n",
    "    labels = data[b'label'].tolist()\n",
    "    labels.insert(-1, 0)\n",
    "    num_labels = len(labels)\n",
    "    starting_indices = []\n",
    "    ending_indices = []\n",
    "    gt = []\n",
    "    for i in range(1, num_labels):\n",
    "        if labels[i] != labels[i-1]:\n",
    "            if 0 < labels[i] < 5: \n",
    "                starting_indices.append(i)\n",
    "                gt.append(WESAD_LABELS[labels[i]])\n",
    "            if 0 < labels[i-1] < 5: ending_indices.append(i-1)\n",
    "    bvp_starting_indices = resampling_indices(starting_indices, BVP_SAMPLING_RATE, ORIGINAL_SAMPLING_RATE)\n",
    "    bvp_ending_indices = resampling_indices(ending_indices, BVP_SAMPLING_RATE, ORIGINAL_SAMPLING_RATE)\n",
    "    assert_resampling_indices(starting_indices, ending_indices, ORIGINAL_SAMPLING_RATE, bvp_starting_indices, bvp_ending_indices, BVP_SAMPLING_RATE) \n",
    "\n",
    "    eda_starting_indices = resampling_indices(starting_indices, EDA_SAMPLING_RATE, ORIGINAL_SAMPLING_RATE)\n",
    "    eda_ending_indices = resampling_indices(ending_indices, EDA_SAMPLING_RATE, ORIGINAL_SAMPLING_RATE)\n",
    "    assert_resampling_indices(starting_indices, ending_indices, ORIGINAL_SAMPLING_RATE, eda_starting_indices, eda_ending_indices, EDA_SAMPLING_RATE)\n",
    "\n",
    "    wesad_metadata[user_id] = {\n",
    "        'labels': gt,\n",
    "        'bvp': {\n",
    "            'starting_indices': bvp_starting_indices,\n",
    "            'ending_indices': bvp_ending_indices\n",
    "        },\n",
    "        'eda': {\n",
    "            'starting_indices': eda_starting_indices,\n",
    "            'ending_indices': eda_ending_indices\n",
    "        },\n",
    "        'temp': {\n",
    "            'starting_indices': eda_starting_indices, # TEMP sampling rate is the same as EDA sampling rate\n",
    "            'ending_indices': eda_ending_indices\n",
    "        }\n",
    "    }\n",
    "\n",
    "with open(metadata_file_path, 'w') as f:\n",
    "    json.dump(wesad_metadata, f)"
   ]
  },
  {
   "cell_type": "code",
   "execution_count": 8,
   "metadata": {},
   "outputs": [
    {
     "data": {
      "text/plain": [
       "dict_keys([b'ACC', b'BVP', b'EDA', b'TEMP'])"
      ]
     },
     "execution_count": 8,
     "metadata": {},
     "output_type": "execute_result"
    }
   ],
   "source": [
    "data[b'signal'][b'wrist'].keys()"
   ]
  },
  {
   "cell_type": "code",
   "execution_count": 9,
   "metadata": {},
   "outputs": [
    {
     "data": {
      "text/plain": [
       "dict_keys([b'ACC', b'ECG', b'EMG', b'EDA', b'Temp', b'Resp'])"
      ]
     },
     "execution_count": 9,
     "metadata": {},
     "output_type": "execute_result"
    }
   ],
   "source": [
    "data[b'signal'][b'chest'].keys()"
   ]
  },
  {
   "cell_type": "markdown",
   "metadata": {},
   "source": [
    "## Create eda and bvp signal data"
   ]
  },
  {
   "cell_type": "code",
   "execution_count": 10,
   "metadata": {},
   "outputs": [
    {
     "name": "stderr",
     "output_type": "stream",
     "text": [
      "100%|██████████| 15/15 [01:38<00:00,  6.58s/it]\n"
     ]
    }
   ],
   "source": [
    "eda = defaultdict(dict)\n",
    "bvp = defaultdict(dict)\n",
    "temp = defaultdict(dict)\n",
    "device = 'chest'\n",
    "for user_id in tqdm(user_ids):\n",
    "    temp_raw_signal = load_raw_signal(dp_manager, 'WESAD', user_id, device, 'Temp')\n",
    "    eda_raw_signal = load_raw_signal(dp_manager, 'WESAD', user_id, device, 'EDA')\n",
    "    bvp_raw_signal = load_raw_signal(dp_manager, 'WESAD', user_id, device, 'ECG')\n",
    "    user_metadata = wesad_metadata[user_id]\n",
    "    for i, label in enumerate(user_metadata['labels']):\n",
    "        if label == 'meditation': continue\n",
    "        # Get task id for ground-truth label\n",
    "        task_id = f'{user_id}_{label}_{i+1}'\n",
    "\n",
    "        # Get raw bvp signal of the task\n",
    "        starting_index = user_metadata['bvp']['starting_indices'][i]\n",
    "        ending_index = user_metadata['bvp']['ending_indices'][i]\n",
    "        trim_indices = (starting_index, ending_index)\n",
    "        trimmed_signal = get_trimmed_signal(bvp_raw_signal, trim_indices, lag = 0, sampling_rate = BVP_SAMPLING_RATE)\n",
    "        bvp[user_id][task_id] = trimmed_signal\n",
    "\n",
    "        # Get raw eda signal of the task\n",
    "        starting_index = user_metadata['eda']['starting_indices'][i]\n",
    "        ending_index = user_metadata['eda']['ending_indices'][i]\n",
    "        trim_indices = (starting_index, ending_index)\n",
    "        trimmed_signal = get_trimmed_signal(eda_raw_signal, trim_indices, lag = 0, sampling_rate = EDA_SAMPLING_RATE)\n",
    "        eda[user_id][task_id] = trimmed_signal\n",
    "\n",
    "        # Get raw skin temperature signal of the task\n",
    "        trimmed_signal = get_trimmed_signal(temp_raw_signal, trim_indices, lag = 0, sampling_rate = TEMP_SAMPLING_RATE)\n",
    "        temp[user_id][task_id] = trimmed_signal"
   ]
  },
  {
   "cell_type": "markdown",
   "metadata": {},
   "source": [
    "## Map ground-truth and save data"
   ]
  },
  {
   "cell_type": "code",
   "execution_count": 11,
   "metadata": {},
   "outputs": [],
   "source": [
    "def dump_dataset_pickle(eda: Dict[str, Dict[str, List[float]]], bvp: Dict[str, Dict[str, List[float]]], temp: Dict[str, Dict[str, List[float]]], ground_truth: Dict[str, Dict[str, List[int]]], file_path: str):\n",
    "    data = { 'eda': eda, 'bvp': bvp, 'temp': temp, 'ground_truth': ground_truth }\n",
    "    pickle.dump(data, open(file_path, 'wb'))\n"
   ]
  },
  {
   "cell_type": "code",
   "execution_count": 23,
   "metadata": {},
   "outputs": [],
   "source": [
    "def map_data_groundtruth(dataset: Dict[str, Dict[str, List[float]]], ground_truth: pd.DataFrame) -> Dict[str, Dict[str, List[int]]]:\n",
    "    ground_truth = ground_truth.set_index('INSTANCE') # Set index of the ground-truth file to task_id for retrieval\n",
    "    gt = defaultdict(dict)\n",
    "    for user_id, data in tqdm(dataset.items()):\n",
    "        for task_id, eda_signal in data.items():\n",
    "            _task_id = task_id + '.csv'\n",
    "            task_ground_truth = ground_truth.loc[_task_id].values # Get task ground-truth\n",
    "            len_eda_signal = len(eda_signal)\n",
    "            # gt[user_id][task_id] = task_ground_truth.tolist() * len_eda_signal # Duplicate ground-truth to label each eda signal\n",
    "            gt[user_id][task_id] = task_ground_truth[0] # Duplicate ground-truth to label each eda signal\n",
    "    return gt"
   ]
  },
  {
   "cell_type": "code",
   "execution_count": 24,
   "metadata": {},
   "outputs": [],
   "source": [
    "def data_assertion(dataset: Dict[str, Dict[str, List[float]]], ground_truth: Dict[str, Dict[str, List[int]]]):\n",
    "    for user_id, data in tqdm(dataset.items()):\n",
    "        for task_id, eda_signal in data.items():\n",
    "            _task_id = task_id + '.csv'\n",
    "            len_eda_signal = len(eda_signal)\n",
    "            len_gt = len(ground_truth[user_id][task_id])\n",
    "            # Assert the length of the ground-truth == the length of eda signal\n",
    "            if len_eda_signal != len_gt:\n",
    "                print(user_id, task_id, 'Length not equal')\n",
    "                print(len_eda_signal, len_gt)\n",
    "            # Assert if the signal has missing values?\n",
    "            if any(elem is None for elem in eda_signal):\n",
    "                print(user_id, task_id, 'Has None value')"
   ]
  },
  {
   "cell_type": "code",
   "execution_count": 25,
   "metadata": {},
   "outputs": [
    {
     "name": "stdout",
     "output_type": "stream",
     "text": [
      "Map ground-truth to each data signal\n"
     ]
    },
    {
     "name": "stderr",
     "output_type": "stream",
     "text": [
      "100%|██████████| 15/15 [00:00<00:00, 4037.13it/s]\n"
     ]
    }
   ],
   "source": [
    "print(\"Map ground-truth to each data signal\")\n",
    "gt = map_data_groundtruth(eda, ground_truth)"
   ]
  },
  {
   "cell_type": "code",
   "execution_count": 26,
   "metadata": {},
   "outputs": [
    {
     "name": "stderr",
     "output_type": "stream",
     "text": [
      "  0%|          | 0/15 [00:00<?, ?it/s]\n"
     ]
    },
    {
     "ename": "TypeError",
     "evalue": "object of type 'numpy.int64' has no len()",
     "output_type": "error",
     "traceback": [
      "\u001b[0;31m---------------------------------------------------------------------------\u001b[0m",
      "\u001b[0;31mTypeError\u001b[0m                                 Traceback (most recent call last)",
      "\u001b[1;32m/home/nvtu/PhD_Work/IEA-AEI-Stress/IEA-AIE-Stress/analysis/WESAD_analysis_preprocessing.ipynb Cell 19\u001b[0m in \u001b[0;36m<cell line: 2>\u001b[0;34m()\u001b[0m\n\u001b[1;32m      <a href='vscode-notebook-cell://ssh-remote%2B136.206.48.13/home/nvtu/PhD_Work/IEA-AEI-Stress/IEA-AIE-Stress/analysis/WESAD_analysis_preprocessing.ipynb#X24sdnNjb2RlLXJlbW90ZQ%3D%3D?line=0'>1</a>\u001b[0m \u001b[39m# Assert that the data is correct\u001b[39;00m\n\u001b[0;32m----> <a href='vscode-notebook-cell://ssh-remote%2B136.206.48.13/home/nvtu/PhD_Work/IEA-AEI-Stress/IEA-AIE-Stress/analysis/WESAD_analysis_preprocessing.ipynb#X24sdnNjb2RlLXJlbW90ZQ%3D%3D?line=1'>2</a>\u001b[0m data_assertion(eda, gt)\n",
      "\u001b[1;32m/home/nvtu/PhD_Work/IEA-AEI-Stress/IEA-AIE-Stress/analysis/WESAD_analysis_preprocessing.ipynb Cell 19\u001b[0m in \u001b[0;36mdata_assertion\u001b[0;34m(dataset, ground_truth)\u001b[0m\n\u001b[1;32m      <a href='vscode-notebook-cell://ssh-remote%2B136.206.48.13/home/nvtu/PhD_Work/IEA-AEI-Stress/IEA-AIE-Stress/analysis/WESAD_analysis_preprocessing.ipynb#X24sdnNjb2RlLXJlbW90ZQ%3D%3D?line=3'>4</a>\u001b[0m _task_id \u001b[39m=\u001b[39m task_id \u001b[39m+\u001b[39m \u001b[39m'\u001b[39m\u001b[39m.csv\u001b[39m\u001b[39m'\u001b[39m\n\u001b[1;32m      <a href='vscode-notebook-cell://ssh-remote%2B136.206.48.13/home/nvtu/PhD_Work/IEA-AEI-Stress/IEA-AIE-Stress/analysis/WESAD_analysis_preprocessing.ipynb#X24sdnNjb2RlLXJlbW90ZQ%3D%3D?line=4'>5</a>\u001b[0m len_eda_signal \u001b[39m=\u001b[39m \u001b[39mlen\u001b[39m(eda_signal)\n\u001b[0;32m----> <a href='vscode-notebook-cell://ssh-remote%2B136.206.48.13/home/nvtu/PhD_Work/IEA-AEI-Stress/IEA-AIE-Stress/analysis/WESAD_analysis_preprocessing.ipynb#X24sdnNjb2RlLXJlbW90ZQ%3D%3D?line=5'>6</a>\u001b[0m len_gt \u001b[39m=\u001b[39m \u001b[39mlen\u001b[39;49m(ground_truth[user_id][task_id])\n\u001b[1;32m      <a href='vscode-notebook-cell://ssh-remote%2B136.206.48.13/home/nvtu/PhD_Work/IEA-AEI-Stress/IEA-AIE-Stress/analysis/WESAD_analysis_preprocessing.ipynb#X24sdnNjb2RlLXJlbW90ZQ%3D%3D?line=6'>7</a>\u001b[0m \u001b[39m# Assert the length of the ground-truth == the length of eda signal\u001b[39;00m\n\u001b[1;32m      <a href='vscode-notebook-cell://ssh-remote%2B136.206.48.13/home/nvtu/PhD_Work/IEA-AEI-Stress/IEA-AIE-Stress/analysis/WESAD_analysis_preprocessing.ipynb#X24sdnNjb2RlLXJlbW90ZQ%3D%3D?line=7'>8</a>\u001b[0m \u001b[39mif\u001b[39;00m len_eda_signal \u001b[39m!=\u001b[39m len_gt:\n",
      "\u001b[0;31mTypeError\u001b[0m: object of type 'numpy.int64' has no len()"
     ]
    }
   ],
   "source": [
    "# Assert that the data is correct\n",
    "data_assertion(eda, gt)"
   ]
  },
  {
   "cell_type": "code",
   "execution_count": 27,
   "metadata": {},
   "outputs": [],
   "source": [
    "# Save dataset\n",
    "output_file_path = osp.join(dp_manager.dataset_path, 'WESAD_chest.pkl')\n",
    "dump_dataset_pickle(eda, bvp, temp, gt, output_file_path)"
   ]
  },
  {
   "cell_type": "code",
   "execution_count": null,
   "metadata": {},
   "outputs": [],
   "source": []
  }
 ],
 "metadata": {
  "interpreter": {
   "hash": "ecad4187db5c553b59aee5b1fb9016fbe2f84af246ba1814de0c1cdbad8b74c7"
  },
  "kernelspec": {
   "display_name": "Python 3.8.3 64-bit ('base': conda)",
   "language": "python",
   "name": "python3"
  },
  "language_info": {
   "codemirror_mode": {
    "name": "ipython",
    "version": 3
   },
   "file_extension": ".py",
   "mimetype": "text/x-python",
   "name": "python",
   "nbconvert_exporter": "python",
   "pygments_lexer": "ipython3",
   "version": "3.8.3"
  },
  "orig_nbformat": 4
 },
 "nbformat": 4,
 "nbformat_minor": 2
}
