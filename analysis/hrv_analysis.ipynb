{
 "cells": [
  {
   "cell_type": "code",
   "execution_count": 1,
   "metadata": {},
   "outputs": [],
   "source": [
    "# Add additional library\n",
    "import sys, os\n",
    "data_lib = os.path.abspath('../data')\n",
    "if data_lib not in sys.path:\n",
    "    sys.path.append(data_lib)\n",
    "\n",
    "from data_utils import get_data_path_manager, load_metadata"
   ]
  },
  {
   "cell_type": "code",
   "execution_count": 2,
   "metadata": {},
   "outputs": [],
   "source": [
    "BVP_SAMPLING_RATE = 64\n",
    "\n",
    "dp_manager = get_data_path_manager()\n",
    "wesad_wrist_metadata = load_metadata(dp_manager.WESAD_wrist_metadata_path)"
   ]
  },
  {
   "cell_type": "code",
   "execution_count": 4,
   "metadata": {},
   "outputs": [],
   "source": [
    "DATASET_NAME = 'WESAD'\n",
    "DEVICE = 'wrist'\n",
    "SIGNAL_NAME = 'EDA'\n",
    "USER_ID = 'S14'"
   ]
  },
  {
   "cell_type": "code",
   "execution_count": null,
   "metadata": {},
   "outputs": [],
   "source": [
    "raw_signal = load_raw_signal()"
   ]
  }
 ],
 "metadata": {
  "interpreter": {
   "hash": "ecad4187db5c553b59aee5b1fb9016fbe2f84af246ba1814de0c1cdbad8b74c7"
  },
  "kernelspec": {
   "display_name": "Python 3.8.3 64-bit ('base': conda)",
   "language": "python",
   "name": "python3"
  },
  "language_info": {
   "codemirror_mode": {
    "name": "ipython",
    "version": 3
   },
   "file_extension": ".py",
   "mimetype": "text/x-python",
   "name": "python",
   "nbconvert_exporter": "python",
   "pygments_lexer": "ipython3",
   "version": "3.8.3"
  },
  "orig_nbformat": 4
 },
 "nbformat": 4,
 "nbformat_minor": 2
}
